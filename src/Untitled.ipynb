{
 "cells": [
  {
   "cell_type": "code",
   "execution_count": 5,
   "metadata": {},
   "outputs": [],
   "source": [
    "import networkx as nx\n",
    "\n",
    "import pandas as pd\n",
    "import matplotlib\n",
    "import numpy as np\n",
    "import matplotlib.pyplot as plt\n",
    "%matplotlib inline  \n",
    "from lib.core import *\n",
    "from lib.inout import *\n"
   ]
  },
  {
   "cell_type": "code",
   "execution_count": 2,
   "metadata": {
    "collapsed": true
   },
   "outputs": [],
   "source": [
    "G=nx.Graph()\n",
    "G.add_node(\"A\")\n",
    "G.add_node(\"B\")\n",
    "G.add_node(\"C\")\n",
    "G.add_node(\"E\")\n",
    "G.add_node(\"G\")\n",
    "G.add_edges_from([(\"A\",\"B\"),(\"A\",\"C\"),(\"B\",\"C\"),(\"B\",\"G\"),(\"C\",\"E\"),(\"E\",\"G\")])\n"
   ]
  },
  {
   "cell_type": "code",
   "execution_count": 3,
   "metadata": {},
   "outputs": [
    {
     "data": {
      "image/png": "[encoded data removed]",
      "text/plain": [
       "<matplotlib.figure.Figure at 0x16c364be710>"
      ]
     },
     "metadata": {},
     "output_type": "display_data"
    }
   ],
   "source": [
    "nx.draw(G,with_labels=True,font_weight=\"bold\")\n",
    "#option={'node_color':black}\n",
    "plt.show()"
   ]
  },
  {
   "cell_type": "code",
   "execution_count": 4,
   "metadata": {
    "collapsed": true
   },
   "outputs": [],
   "source": [
    "def BDDE(G,param=None):\n",
    "    global parametri\n",
    "    if(param!=None):\n",
    "        parametri=param\n",
    "    else:\n",
    "        parametri=parametriDefault()\n",
    "    ListaNodi=[\"A\"]#list(G.nodes)\n",
    "\n",
    "    #bestSolution=[] bestScore=100000\n",
    "    for v in ListaNodi:\n",
    "        radice=v\n",
    "        parametri['radice']=radice\n",
    "        B=nx.DiGraph()\n",
    "        parametri['B']=B\n",
    "        #print(\"Radice: \"+v)\n",
    "        DEPTH(G,[],v,[])\n",
    "        G.remove_node(v)\n",
    "        \n",
    "        print(B.nodes)\n",
    "        print(B.edges)\n",
    "        nx.draw(B,with_labels=True,font_weight=\"bold\",arrow=False)\n",
    "        plt.show()\n",
    "        input()\n",
    "\n",
    "        #Esamino albero binomiale ricavato da sopra\n",
    "        if(len(B)!=0):\n",
    "           \n",
    "            leafs=[]\n",
    "            radice=None\n",
    "            for n in B:\n",
    "                if(B.out_degree(n)==0):#allora è una foglia\n",
    "                    leafs.append(n)\n",
    "                if(B.in_degree(n)==0):#allora è la radice\n",
    "                    radice=n\n",
    "            for n in leafs:\n",
    "                #trovo ramo che parte dalla radice e va fino alla foglia\n",
    "                #corrisponde al sottografo connesso che vogliamo esaminare\n",
    "                Percorso=nx.shortest_path(B,radice,n)\n",
    "                \"\"\"\"\n",
    "                print(Percorso)\n",
    "                score=obj_func(parametri['pazienti'],Percorso)\n",
    "                if(score<bestScore):\n",
    "                    bestScore=score\n",
    "                    BestSolution=Percorso\n",
    "                \"\"\"\n",
    "    return (bestSolution,bestScore)    \n",
    "        \n",
    "def BREADTH(G,S,n,U):\n",
    "    #print(\"BREADTH\")\n",
    "    #print(\"S: \"+str(S)+\"    Vertice:\"+str(n)+\"    U:\"+str(U))    \n",
    "    vn=n.data\n",
    "    if vn in U :\n",
    "        return None\n",
    "    \n",
    "    S1=S+[vn]\n",
    "    if(not boundFunction(S1)):\n",
    "        return None\n",
    "    \n",
    "    B=parametri['B']   \n",
    "    n1=Nodo(vn)\n",
    "    for nxx in getNodesFromBranch(n):#nxx sarebbe n*\n",
    "        n2=BREADTH(G,S1,nxx,U)\n",
    "        if(n2!=None):\n",
    "            B.add_edge(n1,n2)\n",
    "    return n1\n",
    "    \n",
    "def DEPTH(G,S,v,beta):\n",
    "    #print(\"DEPTH\")\n",
    "    #print(\"S: \"+str(S)+\"    Vertice:\"+str(v)+\"    beta:\"+str(beta))\n",
    "    S1=S+[v]\n",
    "    if(not boundFunction(S1)):\n",
    "        return None\n",
    "    \n",
    "    n=Nodo(v)\n",
    "    beta1=[]\n",
    "        \n",
    "    #extensione set: xn=dnk-cnk\n",
    "    xn=getxn(G,S,v)\n",
    "    xn.sort(reverse=True)\n",
    "    #print(\"Xn:\"+str(xn))\n",
    "    B=parametri['B']\n",
    "    for i  in range(0,len(beta),1):\n",
    "        n1=BREADTH(G,S1,beta[i],xn)\n",
    "        if(n1!=None):\n",
    "            B.add_edge(n,n1)\n",
    "            beta1.append(n1)\n",
    "    for v in xn:\n",
    "        n1=DEPTH(G,S1,v,beta1)\n",
    "        if(n1!=None):\n",
    "            B.add_edge(n,n1)\n",
    "            beta1.append(n1)\n",
    "    return n\n",
    " \n",
    "    \n",
    "def getNodesFromBranch(n):\n",
    "    B=parametri['B']\n",
    "    W=[]\n",
    "    neighbors=B.neighbors(n)\n",
    "    for v in neighbors:\n",
    "        if B.has_edge(n,v):\n",
    "            W.append(v)\n",
    "    return W\n",
    "\n",
    "def boundFunction(S):\n",
    "    \n",
    "    return parametri['funzioneLimite'](parametri['matriceBinaria'],\n",
    "                                parametri['pazienti'],S,parametri['k'],\n",
    "                                parametri['soglia']\n",
    "                                )\n",
    "def getxn(G,S,v):\n",
    "    neighbors=G.neighbors(v)\n",
    "    L=nx.Graph()\n",
    "    L.add_nodes_from(neighbors)\n",
    "    \n",
    "    if parametri['radice'] in L:\n",
    "        L.remove_node(parametri['radice'])\n",
    "    for n in S:\n",
    "        if n!=v:#in teoria questo non dovrebbe servire\n",
    "            L.remove_nodes_from(G.neighbors(n))\n",
    "    return list(L.nodes())\n",
    "\n",
    "def calcoloFunzioneLimiteSimple(matriceBinaria,pazienti,S,k,soglia):\n",
    "    if(len(S)>k):\n",
    "        return False\n",
    "    return True\n",
    "def parametriDefault():\n",
    "    print(\"uso parametri di default\")\n",
    "    parametri={}\n",
    "    parametri['k']=10\n",
    "    parametri['soglia']=0.8\n",
    "    parametri['matriceBinaria']=None\n",
    "    parametri['pazienti']=None\n",
    "    parametri['funzioneLimite']=calcoloFunzioneLimiteSimple\n",
    "    return parametri\n",
    "#Nota:i dati del nodo rappresenta l'etichetta del vertice\n",
    "#tale etichetta può essere qualsiasi cosa inclusi stringhe e numeri\n",
    "class Nodo(object):\n",
    "    def __init__(self,data):\n",
    "        self.data=data\n",
    "    def __str__(self):\n",
    "        return str(self.data)\n",
    "    def __repr__(self):\n",
    "        return str(self) "
   ]
  },
  {
   "cell_type": "code",
   "execution_count": 5,
   "metadata": {},
   "outputs": [
    {
     "name": "stdout",
     "output_type": "stream",
     "text": [
      "uso parametri di default\n",
      "[E, G, C, A, C, E, B, G, C, E, C]\n",
      "[(E, G), (C, E), (A, C), (A, B), (C, E), (B, C), (B, G), (G, C), (G, E), (E, C)]\n"
     ]
    },
    {
     "data": {
      "image/png": "[encoded data removed]",
      "text/plain": [
       "<matplotlib.figure.Figure at 0x16c38f22fd0>"
      ]
     },
     "metadata": {},
     "output_type": "display_data"
    },
    {
     "name": "stdout",
     "output_type": "stream",
     "text": [
      "\n"
     ]
    }
   ],
   "source": [
    "BDDE(G)"
   ]
  },
  {
   "cell_type": "code",
   "execution_count": null,
   "metadata": {
    "collapsed": true
   },
   "outputs": [],
   "source": []
  },
  {
   "cell_type": "code",
   "execution_count": null,
   "metadata": {
    "collapsed": true
   },
   "outputs": [],
   "source": []
  },
  {
   "cell_type": "code",
   "execution_count": null,
   "metadata": {
    "collapsed": true
   },
   "outputs": [],
   "source": [
    "G = loadNetwork(\"../data/hint+hi2012_edge_file.txt\")\n",
    "\n",
    "id_to_str, str_to_id = read_genes(\"../data/hint+hi2012_index_file.txt\")\n",
    "patients = read_patients(\"../data/snvs.tsv\", str_to_id)\n",
    "\n",
    "parametri['k']=3\n",
    "parametri['delta']=0.8\n",
    "parametri['pazienti']=patients\n",
    "parametri['score_func']=obj_func\n",
    "\n",
    "bestSolution,bestScore=BDDE(G,parametri)   \n"
   ]
  },
  {
   "cell_type": "code",
   "execution_count": null,
   "metadata": {
    "collapsed": true
   },
   "outputs": [],
   "source": []
  }
 ],
 "metadata": {
  "kernelspec": {
   "display_name": "Python [conda env:Anaconda3]",
   "language": "python",
   "name": "conda-env-Anaconda3-py"
  },
  "language_info": {
   "codemirror_mode": {
    "name": "ipython",
    "version": 3
   },
   "file_extension": ".py",
   "mimetype": "text/x-python",
   "name": "python",
   "nbconvert_exporter": "python",
   "pygments_lexer": "ipython3",
   "version": "3.6.3"
  }
 },
 "nbformat": 4,
 "nbformat_minor": 2
}
